{
 "cells": [
  {
   "cell_type": "code",
   "execution_count": 1,
   "id": "71843f50-2b41-48ed-b657-9380b50e0f87",
   "metadata": {
    "tags": []
   },
   "outputs": [
    {
     "name": "stdout",
     "output_type": "stream",
     "text": [
      "/home/ec2-user/SageMaker/house-xgb\n"
     ]
    }
   ],
   "source": [
    "cd ~/SageMaker/house-xgb"
   ]
  },
  {
   "cell_type": "code",
   "execution_count": 2,
   "id": "ab162c3b-de0d-41a3-8fe4-85ff1dfafa8e",
   "metadata": {
    "tags": []
   },
   "outputs": [
    {
     "name": "stdout",
     "output_type": "stream",
     "text": [
      "Dockerfile  train.csv  train.py\n"
     ]
    }
   ],
   "source": [
    "ls"
   ]
  },
  {
   "cell_type": "code",
   "execution_count": 3,
   "id": "9bba4a33-48e6-4428-b017-389a302d4f32",
   "metadata": {
    "tags": []
   },
   "outputs": [
    {
     "data": {
      "text/plain": [
       "'/home/ec2-user/SageMaker/house-xgb'"
      ]
     },
     "execution_count": 3,
     "metadata": {},
     "output_type": "execute_result"
    }
   ],
   "source": [
    "pwd"
   ]
  },
  {
   "cell_type": "code",
   "execution_count": 4,
   "id": "a0e52a86-4d1d-4420-b7db-f300e0da4c68",
   "metadata": {
    "tags": []
   },
   "outputs": [
    {
     "name": "stdout",
     "output_type": "stream",
     "text": [
      "Dockerfile\n",
      "train.py\n",
      ".ipynb_checkpoints\n"
     ]
    }
   ],
   "source": [
    "import os\n",
    "for f in os.listdir():\n",
    "    print(f)"
   ]
  },
  {
   "cell_type": "code",
   "execution_count": 40,
   "id": "6acbb4fc-c518-4e1f-aa29-969e2c22a26d",
   "metadata": {
    "tags": []
   },
   "outputs": [
    {
     "name": "stdout",
     "output_type": "stream",
     "text": [
      "Sending build context to Docker daemon  472.1kB\n",
      "Step 1/7 : FROM python:3.10\n",
      " ---> eeec5526d75f\n",
      "Step 2/7 : RUN pip3 install -U scikit-learn\n",
      " ---> Using cache\n",
      " ---> 95358409a497\n",
      "Step 3/7 : RUN pip3 install xgboost\n",
      " ---> Using cache\n",
      " ---> cf2245f8857b\n",
      "Step 4/7 : RUN pip3 install pandas\n",
      " ---> Using cache\n",
      " ---> 6dc4b56e335a\n",
      "Step 5/7 : RUN pip3 install sagemaker-training\n",
      " ---> Using cache\n",
      " ---> 660416a70b5d\n",
      "Step 6/7 : COPY train.py /opt/ml/code/train.py\n",
      " ---> f3629c5431dd\n",
      "Step 7/7 : ENV SAGEMAKER_PROGRAM train.py\n",
      " ---> Running in 30dfaaad0997\n",
      "Removing intermediate container 30dfaaad0997\n",
      " ---> 2dee389f192a\n",
      "Successfully built 2dee389f192a\n",
      "Successfully tagged house-xgb:latest\n"
     ]
    }
   ],
   "source": [
    "! docker build -t house-xgb ."
   ]
  },
  {
   "cell_type": "code",
   "execution_count": 41,
   "id": "dd860986-727d-49ad-8b00-2494d1d89e3a",
   "metadata": {
    "tags": []
   },
   "outputs": [
    {
     "name": "stdout",
     "output_type": "stream",
     "text": [
      "REPOSITORY   TAG       IMAGE ID       CREATED          SIZE\n",
      "house-xgb    latest    2dee389f192a   5 seconds ago    2.25GB\n",
      "<none>       <none>    97341442eb2d   4 minutes ago    2.25GB\n",
      "<none>       <none>    1497a6da552e   12 minutes ago   2.25GB\n",
      "<none>       <none>    2a5ac49c2293   3 hours ago      2.25GB\n",
      "<none>       <none>    aa98e60c3a2f   3 hours ago      2.25GB\n",
      "python       3.10      eeec5526d75f   7 weeks ago      1GB\n"
     ]
    }
   ],
   "source": [
    "!docker images"
   ]
  },
  {
   "cell_type": "code",
   "execution_count": 46,
   "id": "0dd21688-a8c3-43b8-b443-16be85ea2bd7",
   "metadata": {
    "tags": []
   },
   "outputs": [],
   "source": [
    "# import boto3\n",
    "# s3 = boto3.client('s3')\n",
    "# with open('train.csv', 'wb') as f:\n",
    "#     s3.download_fileobj('houses-xgb-01', 'data/train.csv', f)"
   ]
  },
  {
   "cell_type": "code",
   "execution_count": 45,
   "id": "208bc93c-836a-458e-be44-39fac8079e23",
   "metadata": {
    "tags": []
   },
   "outputs": [],
   "source": [
    "# train_file = 'train.csv'\n",
    "# s3_bucket = 'houses-xgb-01'\n",
    "# s3 = boto3.client('s3')\n",
    "# with open(train_file, 'wb') as f:\n",
    "#     s3.download_fileobj(s3_bucket, train_file, f)"
   ]
  },
  {
   "cell_type": "code",
   "execution_count": 44,
   "id": "d7875c72-4f78-4aff-bf93-5355cd3b7ca7",
   "metadata": {
    "tags": []
   },
   "outputs": [],
   "source": [
    "# ls"
   ]
  },
  {
   "cell_type": "code",
   "execution_count": 43,
   "id": "f09bb484-5a68-46bb-bf7b-cc1342b5eda2",
   "metadata": {
    "tags": []
   },
   "outputs": [],
   "source": [
    "# import pandas as pd\n",
    "# import csv\n",
    "# list = []\n",
    "# with open('train.csv', mode ='r') as file:\n",
    "#   csvFile = csv.reader(file)\n",
    "#   for lines in csvFile:\n",
    "#         list = lines\n",
    "#         print(lines)\n",
    "#         break"
   ]
  },
  {
   "cell_type": "code",
   "execution_count": null,
   "id": "bc640e9b-ce82-44e0-a2fd-68233135f8db",
   "metadata": {},
   "outputs": [],
   "source": []
  },
  {
   "cell_type": "code",
   "execution_count": 20,
   "id": "af6cadff-c955-4088-82ce-c3abf2fcb285",
   "metadata": {
    "tags": []
   },
   "outputs": [],
   "source": [
    "# Test the container locally"
   ]
  },
  {
   "cell_type": "code",
   "execution_count": 42,
   "id": "304d64e0-11cb-4e89-b407-c2c90f706b34",
   "metadata": {
    "tags": []
   },
   "outputs": [
    {
     "name": "stderr",
     "output_type": "stream",
     "text": [
      "INFO:botocore.credentials:Found credentials from IAM Role: BaseNotebookInstanceEc2InstanceRole\n",
      "INFO:sagemaker:Creating training-job with name: house-xgb-2024-05-13-04-08-24-576\n",
      "INFO:sagemaker.local.image:'Docker Compose' is not installed. Proceeding to check for 'docker-compose' CLI.\n",
      "INFO:sagemaker.local.image:'Docker Compose' found using Docker Compose CLI.\n",
      "INFO:sagemaker.local.local_session:Starting training job\n",
      "INFO:botocore.credentials:Found credentials from IAM Role: BaseNotebookInstanceEc2InstanceRole\n",
      "INFO:sagemaker.local.image:No AWS credentials found in session but credentials from EC2 Metadata Service are available.\n",
      "INFO:sagemaker.local.image:docker compose file: \n",
      "networks:\n",
      "  sagemaker-local:\n",
      "    name: sagemaker-local\n",
      "services:\n",
      "  algo-1-lgcd9:\n",
      "    command: train\n",
      "    container_name: 4h2g3cl1yp-algo-1-lgcd9\n",
      "    environment:\n",
      "    - '[Masked]'\n",
      "    - '[Masked]'\n",
      "    - '[Masked]'\n",
      "    image: house-xgb\n",
      "    networks:\n",
      "      sagemaker-local:\n",
      "        aliases:\n",
      "        - algo-1-lgcd9\n",
      "    stdin_open: true\n",
      "    tty: true\n",
      "    volumes:\n",
      "    - /tmp/tmpgf55b3fi/algo-1-lgcd9/output/data:/opt/ml/output/data\n",
      "    - /tmp/tmpgf55b3fi/algo-1-lgcd9/output:/opt/ml/output\n",
      "    - /tmp/tmpgf55b3fi/algo-1-lgcd9/input:/opt/ml/input\n",
      "    - /tmp/tmpgf55b3fi/model:/opt/ml/model\n",
      "    - /opt/ml/metadata:/opt/ml/metadata\n",
      "version: '2.3'\n",
      "\n",
      "INFO:sagemaker.local.image:docker command: docker-compose -f /tmp/tmpgf55b3fi/docker-compose.yaml up --build --abort-on-container-exit\n"
     ]
    },
    {
     "name": "stdout",
     "output_type": "stream",
     "text": [
      " Container 4h2g3cl1yp-algo-1-lgcd9  Creating\n",
      " Container 4h2g3cl1yp-algo-1-lgcd9  Created\n",
      "Attaching to 4h2g3cl1yp-algo-1-lgcd9\n",
      "4h2g3cl1yp-algo-1-lgcd9  | 2024-05-13 04:08:25,966 sagemaker-training-toolkit INFO     No GPUs detected (normal if no gpus installed)\n",
      "4h2g3cl1yp-algo-1-lgcd9  | 2024-05-13 04:08:25,967 sagemaker-training-toolkit INFO     No Neurons detected (normal if no neurons installed)\n",
      "4h2g3cl1yp-algo-1-lgcd9  | 2024-05-13 04:08:25,981 sagemaker-training-toolkit INFO     instance_groups entry not present in resource_config\n",
      "4h2g3cl1yp-algo-1-lgcd9  | 2024-05-13 04:08:25,988 sagemaker-training-toolkit INFO     No GPUs detected (normal if no gpus installed)\n",
      "4h2g3cl1yp-algo-1-lgcd9  | 2024-05-13 04:08:25,989 sagemaker-training-toolkit INFO     No Neurons detected (normal if no neurons installed)\n",
      "4h2g3cl1yp-algo-1-lgcd9  | 2024-05-13 04:08:26,000 sagemaker-training-toolkit INFO     instance_groups entry not present in resource_config\n",
      "4h2g3cl1yp-algo-1-lgcd9  | 2024-05-13 04:08:26,004 sagemaker-training-toolkit INFO     No GPUs detected (normal if no gpus installed)\n",
      "4h2g3cl1yp-algo-1-lgcd9  | 2024-05-13 04:08:26,005 sagemaker-training-toolkit INFO     No Neurons detected (normal if no neurons installed)\n",
      "4h2g3cl1yp-algo-1-lgcd9  | 2024-05-13 04:08:26,016 sagemaker-training-toolkit INFO     instance_groups entry not present in resource_config\n",
      "4h2g3cl1yp-algo-1-lgcd9  | 2024-05-13 04:08:26,020 sagemaker-training-toolkit INFO     Invoking user script\n",
      "4h2g3cl1yp-algo-1-lgcd9  | \n",
      "4h2g3cl1yp-algo-1-lgcd9  | Training Env:\n",
      "4h2g3cl1yp-algo-1-lgcd9  | \n",
      "4h2g3cl1yp-algo-1-lgcd9  | {\n",
      "4h2g3cl1yp-algo-1-lgcd9  |     \"additional_framework_parameters\": {},\n",
      "4h2g3cl1yp-algo-1-lgcd9  |     \"channel_input_dirs\": {},\n",
      "4h2g3cl1yp-algo-1-lgcd9  |     \"current_host\": \"algo-1-lgcd9\",\n",
      "4h2g3cl1yp-algo-1-lgcd9  |     \"current_instance_group\": \"homogeneousCluster\",\n",
      "4h2g3cl1yp-algo-1-lgcd9  |     \"current_instance_group_hosts\": [],\n",
      "4h2g3cl1yp-algo-1-lgcd9  |     \"current_instance_type\": \"local\",\n",
      "4h2g3cl1yp-algo-1-lgcd9  |     \"distribution_hosts\": [\n",
      "4h2g3cl1yp-algo-1-lgcd9  |         \"algo-1-lgcd9\"\n",
      "4h2g3cl1yp-algo-1-lgcd9  |     ],\n",
      "4h2g3cl1yp-algo-1-lgcd9  |     \"distribution_instance_groups\": [],\n",
      "4h2g3cl1yp-algo-1-lgcd9  |     \"framework_module\": null,\n",
      "4h2g3cl1yp-algo-1-lgcd9  |     \"hosts\": [\n",
      "4h2g3cl1yp-algo-1-lgcd9  |         \"algo-1-lgcd9\"\n",
      "4h2g3cl1yp-algo-1-lgcd9  |     ],\n",
      "4h2g3cl1yp-algo-1-lgcd9  |     \"hyperparameters\": {},\n",
      "4h2g3cl1yp-algo-1-lgcd9  |     \"input_config_dir\": \"/opt/ml/input/config\",\n",
      "4h2g3cl1yp-algo-1-lgcd9  |     \"input_data_config\": {},\n",
      "4h2g3cl1yp-algo-1-lgcd9  |     \"input_dir\": \"/opt/ml/input\",\n",
      "4h2g3cl1yp-algo-1-lgcd9  |     \"instance_groups\": [],\n",
      "4h2g3cl1yp-algo-1-lgcd9  |     \"instance_groups_dict\": {},\n",
      "4h2g3cl1yp-algo-1-lgcd9  |     \"is_hetero\": false,\n",
      "4h2g3cl1yp-algo-1-lgcd9  |     \"is_master\": true,\n",
      "4h2g3cl1yp-algo-1-lgcd9  |     \"is_modelparallel_enabled\": null,\n",
      "4h2g3cl1yp-algo-1-lgcd9  |     \"is_smddpmprun_installed\": false,\n",
      "4h2g3cl1yp-algo-1-lgcd9  |     \"is_smddprun_installed\": false,\n",
      "4h2g3cl1yp-algo-1-lgcd9  |     \"job_name\": \"house-xgb-2024-05-13-04-08-24-576\",\n",
      "4h2g3cl1yp-algo-1-lgcd9  |     \"log_level\": 20,\n",
      "4h2g3cl1yp-algo-1-lgcd9  |     \"master_hostname\": \"algo-1-lgcd9\",\n",
      "4h2g3cl1yp-algo-1-lgcd9  |     \"model_dir\": \"/opt/ml/model\",\n",
      "4h2g3cl1yp-algo-1-lgcd9  |     \"module_dir\": \"/opt/ml/code\",\n",
      "4h2g3cl1yp-algo-1-lgcd9  |     \"module_name\": \"train\",\n",
      "4h2g3cl1yp-algo-1-lgcd9  |     \"network_interface_name\": \"eth0\",\n",
      "4h2g3cl1yp-algo-1-lgcd9  |     \"num_cpus\": 2,\n",
      "4h2g3cl1yp-algo-1-lgcd9  |     \"num_gpus\": 0,\n",
      "4h2g3cl1yp-algo-1-lgcd9  |     \"num_neurons\": 0,\n",
      "4h2g3cl1yp-algo-1-lgcd9  |     \"output_data_dir\": \"/opt/ml/output/data\",\n",
      "4h2g3cl1yp-algo-1-lgcd9  |     \"output_dir\": \"/opt/ml/output\",\n",
      "4h2g3cl1yp-algo-1-lgcd9  |     \"output_intermediate_dir\": \"/opt/ml/output/intermediate\",\n",
      "4h2g3cl1yp-algo-1-lgcd9  |     \"resource_config\": {\n",
      "4h2g3cl1yp-algo-1-lgcd9  |         \"current_host\": \"algo-1-lgcd9\",\n",
      "4h2g3cl1yp-algo-1-lgcd9  |         \"hosts\": [\n",
      "4h2g3cl1yp-algo-1-lgcd9  |             \"algo-1-lgcd9\"\n",
      "4h2g3cl1yp-algo-1-lgcd9  |         ]\n",
      "4h2g3cl1yp-algo-1-lgcd9  |     },\n",
      "4h2g3cl1yp-algo-1-lgcd9  |     \"user_entry_point\": \"train.py\"\n",
      "4h2g3cl1yp-algo-1-lgcd9  | }\n",
      "4h2g3cl1yp-algo-1-lgcd9  | \n",
      "4h2g3cl1yp-algo-1-lgcd9  | Environment variables:\n",
      "4h2g3cl1yp-algo-1-lgcd9  | \n",
      "4h2g3cl1yp-algo-1-lgcd9  | SM_HOSTS=[\"algo-1-lgcd9\"]\n",
      "4h2g3cl1yp-algo-1-lgcd9  | SM_NETWORK_INTERFACE_NAME=eth0\n",
      "4h2g3cl1yp-algo-1-lgcd9  | SM_HPS={}\n",
      "4h2g3cl1yp-algo-1-lgcd9  | SM_USER_ENTRY_POINT=train.py\n",
      "4h2g3cl1yp-algo-1-lgcd9  | SM_FRAMEWORK_PARAMS={}\n",
      "4h2g3cl1yp-algo-1-lgcd9  | SM_RESOURCE_CONFIG={\"current_host\":\"algo-1-lgcd9\",\"hosts\":[\"algo-1-lgcd9\"]}\n",
      "4h2g3cl1yp-algo-1-lgcd9  | SM_INPUT_DATA_CONFIG={}\n",
      "4h2g3cl1yp-algo-1-lgcd9  | SM_OUTPUT_DATA_DIR=/opt/ml/output/data\n",
      "4h2g3cl1yp-algo-1-lgcd9  | SM_CHANNELS=[]\n",
      "4h2g3cl1yp-algo-1-lgcd9  | SM_CURRENT_HOST=algo-1-lgcd9\n",
      "4h2g3cl1yp-algo-1-lgcd9  | SM_CURRENT_INSTANCE_TYPE=local\n",
      "4h2g3cl1yp-algo-1-lgcd9  | SM_CURRENT_INSTANCE_GROUP=homogeneousCluster\n",
      "4h2g3cl1yp-algo-1-lgcd9  | SM_CURRENT_INSTANCE_GROUP_HOSTS=[]\n",
      "4h2g3cl1yp-algo-1-lgcd9  | SM_INSTANCE_GROUPS=[]\n",
      "4h2g3cl1yp-algo-1-lgcd9  | SM_INSTANCE_GROUPS_DICT={}\n",
      "4h2g3cl1yp-algo-1-lgcd9  | SM_DISTRIBUTION_INSTANCE_GROUPS=[]\n",
      "4h2g3cl1yp-algo-1-lgcd9  | SM_IS_HETERO=false\n",
      "4h2g3cl1yp-algo-1-lgcd9  | SM_MODULE_NAME=train\n",
      "4h2g3cl1yp-algo-1-lgcd9  | SM_LOG_LEVEL=20\n",
      "4h2g3cl1yp-algo-1-lgcd9  | SM_FRAMEWORK_MODULE=\n",
      "4h2g3cl1yp-algo-1-lgcd9  | SM_INPUT_DIR=/opt/ml/input\n",
      "4h2g3cl1yp-algo-1-lgcd9  | SM_INPUT_CONFIG_DIR=/opt/ml/input/config\n",
      "4h2g3cl1yp-algo-1-lgcd9  | SM_OUTPUT_DIR=/opt/ml/output\n",
      "4h2g3cl1yp-algo-1-lgcd9  | SM_NUM_CPUS=2\n",
      "4h2g3cl1yp-algo-1-lgcd9  | SM_NUM_GPUS=0\n",
      "4h2g3cl1yp-algo-1-lgcd9  | SM_NUM_NEURONS=0\n",
      "4h2g3cl1yp-algo-1-lgcd9  | SM_MODEL_DIR=/opt/ml/model\n",
      "4h2g3cl1yp-algo-1-lgcd9  | SM_MODULE_DIR=/opt/ml/code\n",
      "4h2g3cl1yp-algo-1-lgcd9  | SM_TRAINING_ENV={\"additional_framework_parameters\":{},\"channel_input_dirs\":{},\"current_host\":\"algo-1-lgcd9\",\"current_instance_group\":\"homogeneousCluster\",\"current_instance_group_hosts\":[],\"current_instance_type\":\"local\",\"distribution_hosts\":[\"algo-1-lgcd9\"],\"distribution_instance_groups\":[],\"framework_module\":null,\"hosts\":[\"algo-1-lgcd9\"],\"hyperparameters\":{},\"input_config_dir\":\"/opt/ml/input/config\",\"input_data_config\":{},\"input_dir\":\"/opt/ml/input\",\"instance_groups\":[],\"instance_groups_dict\":{},\"is_hetero\":false,\"is_master\":true,\"is_modelparallel_enabled\":null,\"is_smddpmprun_installed\":false,\"is_smddprun_installed\":false,\"job_name\":\"house-xgb-2024-05-13-04-08-24-576\",\"log_level\":20,\"master_hostname\":\"algo-1-lgcd9\",\"model_dir\":\"/opt/ml/model\",\"module_dir\":\"/opt/ml/code\",\"module_name\":\"train\",\"network_interface_name\":\"eth0\",\"num_cpus\":2,\"num_gpus\":0,\"num_neurons\":0,\"output_data_dir\":\"/opt/ml/output/data\",\"output_dir\":\"/opt/ml/output\",\"output_intermediate_dir\":\"/opt/ml/output/intermediate\",\"resource_config\":{\"current_host\":\"algo-1-lgcd9\",\"hosts\":[\"algo-1-lgcd9\"]},\"user_entry_point\":\"train.py\"}\n",
      "4h2g3cl1yp-algo-1-lgcd9  | SM_USER_ARGS=[]\n",
      "4h2g3cl1yp-algo-1-lgcd9  | SM_OUTPUT_INTERMEDIATE_DIR=/opt/ml/output/intermediate\n",
      "4h2g3cl1yp-algo-1-lgcd9  | PYTHONPATH=/opt/ml/code:/usr/local/bin:/usr/local/lib/python310.zip:/usr/local/lib/python3.10:/usr/local/lib/python3.10/lib-dynload:/usr/local/lib/python3.10/site-packages\n",
      "4h2g3cl1yp-algo-1-lgcd9  | \n",
      "4h2g3cl1yp-algo-1-lgcd9  | Invoking script with the following command:\n",
      "4h2g3cl1yp-algo-1-lgcd9  | \n",
      "4h2g3cl1yp-algo-1-lgcd9  | /usr/local/bin/python train.py\n",
      "4h2g3cl1yp-algo-1-lgcd9  | \n",
      "4h2g3cl1yp-algo-1-lgcd9  | \n",
      "4h2g3cl1yp-algo-1-lgcd9  | 2024-05-13 04:08:26,021 sagemaker-training-toolkit INFO     Exceptions not imported for SageMaker Debugger as it is not installed.\n",
      "4h2g3cl1yp-algo-1-lgcd9  | 2024-05-13 04:08:26,021 sagemaker-training-toolkit INFO     Exceptions not imported for SageMaker TF as Tensorflow is not installed.\n",
      "4h2g3cl1yp-algo-1-lgcd9  | train.py\n",
      "4h2g3cl1yp-algo-1-lgcd9  | train.csv\n",
      "4h2g3cl1yp-algo-1-lgcd9  | Preditions after the training ...................................:\n",
      "4h2g3cl1yp-algo-1-lgcd9  | Mean Absolute Error : 17925.164362157535\n",
      "4h2g3cl1yp-algo-1-lgcd9  | Mean Squared Eerror : 891299405.0371898\n",
      "4h2g3cl1yp-algo-1-lgcd9  | R2 Score : 0.8180713727574026\n",
      "4h2g3cl1yp-algo-1-lgcd9  | Save the model in Universal Binary JSON format (.ubj) ...\n",
      "4h2g3cl1yp-algo-1-lgcd9  | model_save_dir: /opt/ml/model\n",
      "4h2g3cl1yp-algo-1-lgcd9  | Load the model from Universal Binary JSON  format (.ubj) ...\n",
      "4h2g3cl1yp-algo-1-lgcd9  | Preditions after Save and Reload the model in JSON ...............:\n",
      "4h2g3cl1yp-algo-1-lgcd9  | Mean Absolute Error : 17925.164362157535\n",
      "4h2g3cl1yp-algo-1-lgcd9  | Mean Squared Eerror : 891299405.0371898\n",
      "4h2g3cl1yp-algo-1-lgcd9  | R2 Score : 0.8180713727574026\n",
      "4h2g3cl1yp-algo-1-lgcd9  | 2024-05-13 04:08:28,475 sagemaker-training-toolkit INFO     Reporting training SUCCESS\n"
     ]
    },
    {
     "name": "stderr",
     "output_type": "stream",
     "text": [
      "INFO:root:creating /tmp/tmpgf55b3fi/artifacts/output/data\n",
      "INFO:root:copying /tmp/tmpgf55b3fi/algo-1-lgcd9/output/success -> /tmp/tmpgf55b3fi/artifacts/output\n",
      "INFO:root:copying /tmp/tmpgf55b3fi/model/model.ubj -> /tmp/tmpgf55b3fi/artifacts/model\n"
     ]
    },
    {
     "name": "stdout",
     "output_type": "stream",
     "text": [
      "4h2g3cl1yp-algo-1-lgcd9 exited with code 0\n",
      "Aborting on container exit...\n",
      " Container 4h2g3cl1yp-algo-1-lgcd9  Stopping\n",
      " Container 4h2g3cl1yp-algo-1-lgcd9  Stopped\n"
     ]
    },
    {
     "name": "stderr",
     "output_type": "stream",
     "text": [
      "INFO:sagemaker.local.image:===== Job Complete =====\n"
     ]
    }
   ],
   "source": [
    "import sagemaker\n",
    "from sagemaker.estimator import Estimator\n",
    "\n",
    "xgb_model = Estimator(image_uri='house-xgb',\n",
    "                      role=sagemaker.get_execution_role(),\n",
    "                      instance_count=1,\n",
    "                      instance_type='local')\n",
    "\n",
    "xgb_model.fit()"
   ]
  },
  {
   "cell_type": "code",
   "execution_count": 47,
   "id": "0252dbb3-96cb-4eaa-8f0b-2f7902f1187e",
   "metadata": {
    "tags": []
   },
   "outputs": [],
   "source": [
    "#Push the container to Amazon Elastic Container Registry (Amazon ECR)"
   ]
  },
  {
   "cell_type": "code",
   "execution_count": 48,
   "id": "f9878c17-20ff-4125-b809-7fb2537f945d",
   "metadata": {
    "tags": []
   },
   "outputs": [
    {
     "name": "stderr",
     "output_type": "stream",
     "text": [
      "WARNING! Your password will be stored unencrypted in /home/ec2-user/.docker/config.json.\n",
      "Configure a credential helper to remove this warning. See\n",
      "https://docs.docker.com/engine/reference/commandline/login/#credentials-store\n",
      "\n"
     ]
    },
    {
     "name": "stdout",
     "output_type": "stream",
     "text": [
      "Login Succeeded\n",
      "Sending build context to Docker daemon  10.75kB\n",
      "Step 1/7 : FROM python:3.10\n",
      " ---> eeec5526d75f\n",
      "Step 2/7 : RUN pip3 install -U scikit-learn\n",
      " ---> Using cache\n",
      " ---> 95358409a497\n",
      "Step 3/7 : RUN pip3 install xgboost\n",
      " ---> Using cache\n",
      " ---> cf2245f8857b\n",
      "Step 4/7 : RUN pip3 install pandas\n",
      " ---> Using cache\n",
      " ---> 6dc4b56e335a\n",
      "Step 5/7 : RUN pip3 install sagemaker-training\n",
      " ---> Using cache\n",
      " ---> 660416a70b5d\n",
      "Step 6/7 : COPY train.py /opt/ml/code/train.py\n",
      " ---> Using cache\n",
      " ---> f3629c5431dd\n",
      "Step 7/7 : ENV SAGEMAKER_PROGRAM train.py\n",
      " ---> Using cache\n",
      " ---> 2dee389f192a\n",
      "Successfully built 2dee389f192a\n",
      "Successfully tagged house-xgb:latest\n",
      "The push refers to repository [047922237497.dkr.ecr.us-east-1.amazonaws.com/house-xgb]\n",
      "3cd0b17eaa0a: Preparing\n",
      "475992d08836: Preparing\n",
      "278cad93e8ef: Preparing\n",
      "c1275a42b05c: Preparing\n",
      "d7da6810caef: Preparing\n",
      "9a6c88132041: Preparing\n",
      "82553f50c177: Preparing\n",
      "2c746e256285: Preparing\n",
      "89ca33c95b2e: Preparing\n",
      "83db175c22e2: Preparing\n",
      "c5d13b2949a2: Preparing\n",
      "7e43f593c900: Preparing\n",
      "072686bcd3db: Preparing\n",
      "9a6c88132041: Waiting\n",
      "82553f50c177: Waiting\n",
      "2c746e256285: Waiting\n",
      "89ca33c95b2e: Waiting\n",
      "83db175c22e2: Waiting\n",
      "072686bcd3db: Waiting\n",
      "c5d13b2949a2: Waiting\n",
      "7e43f593c900: Waiting\n",
      "3cd0b17eaa0a: Pushed\n",
      "9a6c88132041: Pushed\n",
      "82553f50c177: Pushed\n",
      "475992d08836: Pushed\n",
      "2c746e256285: Pushed\n",
      "278cad93e8ef: Pushed\n",
      "89ca33c95b2e: Pushed\n",
      "7e43f593c900: Pushed\n",
      "d7da6810caef: Pushed\n",
      "072686bcd3db: Pushed\n",
      "c5d13b2949a2: Pushed\n",
      "c1275a42b05c: Pushed\n",
      "83db175c22e2: Pushed\n",
      "latest: digest: sha256:531f6c595673b34691a5190c62ad3ca1e861ae63b4a8b8999405090e459dd55e size: 3065\n"
     ]
    }
   ],
   "source": [
    "%%sh\n",
    "\n",
    "# Specify an Docker image name\n",
    "image_name=house-xgb\n",
    "\n",
    "account=$(aws sts get-caller-identity --query Account --output text)\n",
    "\n",
    "# Get the region defined in the current configuration (default to us-west-2 if none defined)\n",
    "region=$(aws configure get region)\n",
    "region=${region:-us-east-1}\n",
    "\n",
    "fullname=\"${account}.dkr.ecr.${region}.amazonaws.com/${image_name}:latest\"\n",
    "\n",
    "# If the repository doesn't exist in ECR, create it.\n",
    "\n",
    "aws ecr describe-repositories --repository-names \"${image_name}\" > /dev/null 2>&1\n",
    "if [ $? -ne 0 ]\n",
    "then\n",
    "    aws ecr create-repository --repository-name \"${image_name}\" > /dev/null\n",
    "fi\n",
    "\n",
    "# Get the login command from ECR and execute it directly\n",
    "\n",
    "aws ecr get-login-password --region ${region}|docker login --username AWS --password-stdin ${fullname}\n",
    "\n",
    "# Build the docker image locally with the image name and then push it to ECR\n",
    "# with the full name.\n",
    "\n",
    "docker build -t ${image_name} .\n",
    "docker tag ${image_name} ${fullname}\n",
    "\n",
    "docker push ${fullname}"
   ]
  },
  {
   "cell_type": "code",
   "execution_count": 49,
   "id": "c7b3aa66-a107-4817-a0a2-043944cbdd17",
   "metadata": {
    "tags": []
   },
   "outputs": [],
   "source": [
    "# Get the Amazon ECR image of your training container."
   ]
  },
  {
   "cell_type": "code",
   "execution_count": 50,
   "id": "7ab2fea8-d94e-43a9-9c15-611fcdf3b023",
   "metadata": {
    "tags": []
   },
   "outputs": [
    {
     "data": {
      "text/plain": [
       "'047922237497.dkr.ecr.us-east-1.amazonaws.com/house-xgb:latest'"
      ]
     },
     "execution_count": 50,
     "metadata": {},
     "output_type": "execute_result"
    }
   ],
   "source": [
    "import boto3\n",
    "\n",
    "account_id = boto3.client('sts').get_caller_identity().get('Account')\n",
    "ecr_repository = 'house-xgb'\n",
    "tag = ':latest'\n",
    "\n",
    "region = boto3.session.Session().region_name\n",
    "\n",
    "uri_suffix = 'amazonaws.com'\n",
    "if region in ['cn-north-1', 'cn-northwest-1']:\n",
    "    uri_suffix = 'amazonaws.com.cn'\n",
    "\n",
    "byoc_image_uri = '{}.dkr.ecr.{}.{}/{}'.format(account_id, region, uri_suffix, ecr_repository + tag)\n",
    "\n",
    "byoc_image_uri\n"
   ]
  },
  {
   "cell_type": "code",
   "execution_count": 51,
   "id": "ef92b385-0c0c-48a5-a212-06794303460f",
   "metadata": {
    "tags": []
   },
   "outputs": [],
   "source": [
    "# Use the ecr_image retrieved from the previous step to configure a SageMaker estimator object."
   ]
  },
  {
   "cell_type": "code",
   "execution_count": 55,
   "id": "38359795-64f0-4857-b636-41c39e238ca8",
   "metadata": {
    "tags": []
   },
   "outputs": [
    {
     "name": "stderr",
     "output_type": "stream",
     "text": [
      "INFO:sagemaker:Creating training-job with name: houses-xgb-2024-05-13-05-07-19-443\n"
     ]
    },
    {
     "name": "stdout",
     "output_type": "stream",
     "text": [
      "2024-05-13 05:07:19 Starting - Starting the training job...\n",
      "2024-05-13 05:07:36 Starting - Preparing the instances for training...\n",
      "2024-05-13 05:08:17 Downloading - Downloading the training image...\n",
      "2024-05-13 05:08:48 Training - Training image download completed. Training in progress.\n",
      "2024-05-13 05:08:48 Uploading - Uploading generated training model\u001b[34m2024-05-13 05:08:40,156 sagemaker-training-toolkit INFO     No Neurons detected (normal if no neurons installed)\u001b[0m\n",
      "\u001b[34m2024-05-13 05:08:40,186 sagemaker-training-toolkit INFO     No Neurons detected (normal if no neurons installed)\u001b[0m\n",
      "\u001b[34m2024-05-13 05:08:40,214 sagemaker-training-toolkit INFO     No Neurons detected (normal if no neurons installed)\u001b[0m\n",
      "\u001b[34m2024-05-13 05:08:40,225 sagemaker-training-toolkit INFO     Invoking user script\u001b[0m\n",
      "\u001b[34mTraining Env:\u001b[0m\n",
      "\u001b[34m{\n",
      "    \"additional_framework_parameters\": {},\n",
      "    \"channel_input_dirs\": {},\n",
      "    \"current_host\": \"algo-1\",\n",
      "    \"current_instance_group\": \"homogeneousCluster\",\n",
      "    \"current_instance_group_hosts\": [\n",
      "        \"algo-1\"\n",
      "    ],\n",
      "    \"current_instance_type\": \"ml.g4dn.xlarge\",\n",
      "    \"distribution_hosts\": [],\n",
      "    \"distribution_instance_groups\": [],\n",
      "    \"framework_module\": null,\n",
      "    \"hosts\": [\n",
      "        \"algo-1\"\n",
      "    ],\n",
      "    \"hyperparameters\": {},\n",
      "    \"input_config_dir\": \"/opt/ml/input/config\",\n",
      "    \"input_data_config\": {},\n",
      "    \"input_dir\": \"/opt/ml/input\",\n",
      "    \"instance_groups\": [\n",
      "        \"homogeneousCluster\"\n",
      "    ],\n",
      "    \"instance_groups_dict\": {\n",
      "        \"homogeneousCluster\": {\n",
      "            \"instance_group_name\": \"homogeneousCluster\",\n",
      "            \"instance_type\": \"ml.g4dn.xlarge\",\n",
      "            \"hosts\": [\n",
      "                \"algo-1\"\n",
      "            ]\n",
      "        }\n",
      "    },\n",
      "    \"is_hetero\": false,\n",
      "    \"is_master\": true,\n",
      "    \"is_modelparallel_enabled\": null,\n",
      "    \"is_smddpmprun_installed\": false,\n",
      "    \"is_smddprun_installed\": false,\n",
      "    \"job_name\": \"houses-xgb-2024-05-13-05-07-19-443\",\n",
      "    \"log_level\": 20,\n",
      "    \"master_hostname\": \"algo-1\",\n",
      "    \"model_dir\": \"/opt/ml/model\",\n",
      "    \"module_dir\": \"/opt/ml/code\",\n",
      "    \"module_name\": \"train\",\n",
      "    \"network_interface_name\": \"eth0\",\n",
      "    \"num_cpus\": 4,\n",
      "    \"num_gpus\": 1,\n",
      "    \"num_neurons\": 0,\n",
      "    \"output_data_dir\": \"/opt/ml/output/data\",\n",
      "    \"output_dir\": \"/opt/ml/output\",\n",
      "    \"output_intermediate_dir\": \"/opt/ml/output/intermediate\",\n",
      "    \"resource_config\": {\n",
      "        \"current_host\": \"algo-1\",\n",
      "        \"current_instance_type\": \"ml.g4dn.xlarge\",\n",
      "        \"current_group_name\": \"homogeneousCluster\",\n",
      "        \"hosts\": [\n",
      "            \"algo-1\"\n",
      "        ],\n",
      "        \"instance_groups\": [\n",
      "            {\n",
      "                \"instance_group_name\": \"homogeneousCluster\",\n",
      "                \"instance_type\": \"ml.g4dn.xlarge\",\n",
      "                \"hosts\": [\n",
      "                    \"algo-1\"\n",
      "                ]\n",
      "            }\n",
      "        ],\n",
      "        \"network_interface_name\": \"eth0\"\n",
      "    },\n",
      "    \"user_entry_point\": \"train.py\"\u001b[0m\n",
      "\u001b[34m}\u001b[0m\n",
      "\u001b[34mEnvironment variables:\u001b[0m\n",
      "\u001b[34mSM_HOSTS=[\"algo-1\"]\u001b[0m\n",
      "\u001b[34mSM_NETWORK_INTERFACE_NAME=eth0\u001b[0m\n",
      "\u001b[34mSM_HPS={}\u001b[0m\n",
      "\u001b[34mSM_USER_ENTRY_POINT=train.py\u001b[0m\n",
      "\u001b[34mSM_FRAMEWORK_PARAMS={}\u001b[0m\n",
      "\u001b[34mSM_RESOURCE_CONFIG={\"current_group_name\":\"homogeneousCluster\",\"current_host\":\"algo-1\",\"current_instance_type\":\"ml.g4dn.xlarge\",\"hosts\":[\"algo-1\"],\"instance_groups\":[{\"hosts\":[\"algo-1\"],\"instance_group_name\":\"homogeneousCluster\",\"instance_type\":\"ml.g4dn.xlarge\"}],\"network_interface_name\":\"eth0\"}\u001b[0m\n",
      "\u001b[34mSM_INPUT_DATA_CONFIG={}\u001b[0m\n",
      "\u001b[34mSM_OUTPUT_DATA_DIR=/opt/ml/output/data\u001b[0m\n",
      "\u001b[34mSM_CHANNELS=[]\u001b[0m\n",
      "\u001b[34mSM_CURRENT_HOST=algo-1\u001b[0m\n",
      "\u001b[34mSM_CURRENT_INSTANCE_TYPE=ml.g4dn.xlarge\u001b[0m\n",
      "\u001b[34mSM_CURRENT_INSTANCE_GROUP=homogeneousCluster\u001b[0m\n",
      "\u001b[34mSM_CURRENT_INSTANCE_GROUP_HOSTS=[\"algo-1\"]\u001b[0m\n",
      "\u001b[34mSM_INSTANCE_GROUPS=[\"homogeneousCluster\"]\u001b[0m\n",
      "\u001b[34mSM_INSTANCE_GROUPS_DICT={\"homogeneousCluster\":{\"hosts\":[\"algo-1\"],\"instance_group_name\":\"homogeneousCluster\",\"instance_type\":\"ml.g4dn.xlarge\"}}\u001b[0m\n",
      "\u001b[34mSM_DISTRIBUTION_INSTANCE_GROUPS=[]\u001b[0m\n",
      "\u001b[34mSM_IS_HETERO=false\u001b[0m\n",
      "\u001b[34mSM_MODULE_NAME=train\u001b[0m\n",
      "\u001b[34mSM_LOG_LEVEL=20\u001b[0m\n",
      "\u001b[34mSM_FRAMEWORK_MODULE=\u001b[0m\n",
      "\u001b[34mSM_INPUT_DIR=/opt/ml/input\u001b[0m\n",
      "\u001b[34mSM_INPUT_CONFIG_DIR=/opt/ml/input/config\u001b[0m\n",
      "\u001b[34mSM_OUTPUT_DIR=/opt/ml/output\u001b[0m\n",
      "\u001b[34mSM_NUM_CPUS=4\u001b[0m\n",
      "\u001b[34mSM_NUM_GPUS=1\u001b[0m\n",
      "\u001b[34mSM_NUM_NEURONS=0\u001b[0m\n",
      "\u001b[34mSM_MODEL_DIR=/opt/ml/model\u001b[0m\n",
      "\u001b[34mSM_MODULE_DIR=/opt/ml/code\u001b[0m\n",
      "\u001b[34mSM_TRAINING_ENV={\"additional_framework_parameters\":{},\"channel_input_dirs\":{},\"current_host\":\"algo-1\",\"current_instance_group\":\"homogeneousCluster\",\"current_instance_group_hosts\":[\"algo-1\"],\"current_instance_type\":\"ml.g4dn.xlarge\",\"distribution_hosts\":[],\"distribution_instance_groups\":[],\"framework_module\":null,\"hosts\":[\"algo-1\"],\"hyperparameters\":{},\"input_config_dir\":\"/opt/ml/input/config\",\"input_data_config\":{},\"input_dir\":\"/opt/ml/input\",\"instance_groups\":[\"homogeneousCluster\"],\"instance_groups_dict\":{\"homogeneousCluster\":{\"hosts\":[\"algo-1\"],\"instance_group_name\":\"homogeneousCluster\",\"instance_type\":\"ml.g4dn.xlarge\"}},\"is_hetero\":false,\"is_master\":true,\"is_modelparallel_enabled\":null,\"is_smddpmprun_installed\":false,\"is_smddprun_installed\":false,\"job_name\":\"houses-xgb-2024-05-13-05-07-19-443\",\"log_level\":20,\"master_hostname\":\"algo-1\",\"model_dir\":\"/opt/ml/model\",\"module_dir\":\"/opt/ml/code\",\"module_name\":\"train\",\"network_interface_name\":\"eth0\",\"num_cpus\":4,\"num_gpus\":1,\"num_neurons\":0,\"output_data_dir\":\"/opt/ml/output/data\",\"output_dir\":\"/opt/ml/output\",\"output_intermediate_dir\":\"/opt/ml/output/intermediate\",\"resource_config\":{\"current_group_name\":\"homogeneousCluster\",\"current_host\":\"algo-1\",\"current_instance_type\":\"ml.g4dn.xlarge\",\"hosts\":[\"algo-1\"],\"instance_groups\":[{\"hosts\":[\"algo-1\"],\"instance_group_name\":\"homogeneousCluster\",\"instance_type\":\"ml.g4dn.xlarge\"}],\"network_interface_name\":\"eth0\"},\"user_entry_point\":\"train.py\"}\u001b[0m\n",
      "\u001b[34mSM_USER_ARGS=[]\u001b[0m\n",
      "\u001b[34mSM_OUTPUT_INTERMEDIATE_DIR=/opt/ml/output/intermediate\u001b[0m\n",
      "\u001b[34mPYTHONPATH=/opt/ml/code:/usr/local/bin:/usr/local/lib/python310.zip:/usr/local/lib/python3.10:/usr/local/lib/python3.10/lib-dynload:/usr/local/lib/python3.10/site-packages\u001b[0m\n",
      "\u001b[34mInvoking script with the following command:\u001b[0m\n",
      "\u001b[34m/usr/local/bin/python train.py\u001b[0m\n",
      "\u001b[34m2024-05-13 05:08:40,225 sagemaker-training-toolkit INFO     Exceptions not imported for SageMaker Debugger as it is not installed.\u001b[0m\n",
      "\u001b[34m2024-05-13 05:08:40,226 sagemaker-training-toolkit INFO     Exceptions not imported for SageMaker TF as Tensorflow is not installed.\u001b[0m\n",
      "\u001b[34mtrain.py\u001b[0m\n",
      "\u001b[34mtrain.csv\u001b[0m\n",
      "\u001b[34mPreditions after the training ...................................:\u001b[0m\n",
      "\u001b[34mMean Absolute Error : 18993.88992936644\u001b[0m\n",
      "\u001b[34mMean Squared Eerror : 1458286640.3219233\u001b[0m\n",
      "\u001b[34mR2 Score : 0.7222675682557866\u001b[0m\n",
      "\u001b[34mSave the model in Universal Binary JSON format (.ubj) ...\u001b[0m\n",
      "\u001b[34mmodel_save_dir: /opt/ml/model\u001b[0m\n",
      "\u001b[34mLoad the model from Universal Binary JSON  format (.ubj) ...\u001b[0m\n",
      "\u001b[34mPreditions after Save and Reload the model in JSON ...............:\u001b[0m\n",
      "\u001b[34mMean Absolute Error : 18993.88992936644\u001b[0m\n",
      "\u001b[34mMean Squared Eerror : 1458286640.3219233\u001b[0m\n",
      "\u001b[34mR2 Score : 0.7222675682557866\u001b[0m\n",
      "\u001b[34m2024-05-13 05:08:42,071 sagemaker-training-toolkit INFO     Reporting training SUCCESS\u001b[0m\n",
      "\n",
      "2024-05-13 05:09:02 Completed - Training job completed\n",
      "Training seconds: 57\n",
      "Billable seconds: 57\n"
     ]
    }
   ],
   "source": [
    "import sagemaker\n",
    "from sagemaker import get_execution_role\n",
    "from sagemaker.estimator import Estimator\n",
    "\n",
    "output_location = 's3://houses-xgb-01'\n",
    "\n",
    "estimator = Estimator(image_uri=byoc_image_uri,\n",
    "                      role=get_execution_role(),\n",
    "                      base_job_name='houses-xgb',\n",
    "                      instance_count=1,\n",
    "                      instance_type='ml.g4dn.xlarge',\n",
    "                      output_path=output_location)\n",
    "\n",
    "#train your model\n",
    "estimator.fit()\n"
   ]
  },
  {
   "cell_type": "code",
   "execution_count": null,
   "id": "049f5317-6c35-4b2b-9afd-47c42dceb413",
   "metadata": {},
   "outputs": [],
   "source": []
  }
 ],
 "metadata": {
  "kernelspec": {
   "display_name": "conda_tensorflow2_p310",
   "language": "python",
   "name": "conda_tensorflow2_p310"
  },
  "language_info": {
   "codemirror_mode": {
    "name": "ipython",
    "version": 3
   },
   "file_extension": ".py",
   "mimetype": "text/x-python",
   "name": "python",
   "nbconvert_exporter": "python",
   "pygments_lexer": "ipython3",
   "version": "3.10.14"
  }
 },
 "nbformat": 4,
 "nbformat_minor": 5
}
